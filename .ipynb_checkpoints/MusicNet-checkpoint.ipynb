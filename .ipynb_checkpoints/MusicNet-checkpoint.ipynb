{
 "cells": [
  {
   "cell_type": "markdown",
   "metadata": {},
   "source": [
    "https://www.kaggle.com/imsparsh/musicnet-dataset?select=musicnet"
   ]
  },
  {
   "cell_type": "markdown",
   "metadata": {},
   "source": [
    "# MusicNet Dataset\n",
    "## A curated collection of labeled classical music\n",
    "\n",
    "### Context\n",
    "MusicNet is a collection of 330 freely-licensed classical music recordings, together with over 1 million annotated labels indicating the precise time of each note in every recording, the instrument that plays each note, and the note's position in the metrical structure of the composition. The labels are acquired from musical scores aligned to recordings by dynamic time warping. The labels are verified by trained musicians; a labeling error rate of 4% has been estimated. The MusicNet labels are offered to the machine learning and music communities as a resource for training models and a common benchmark for comparing results.\n",
    "\n",
    "Specifically, MusicNet labels is proposed as a tool to address the following tasks:\n",
    "- Identify the notes performed at specific times in a recording.\n",
    "- Classify the instruments that perform in a recording.\n",
    "- Classify the composer of a recording.\n",
    "- Identify precise onset times of the notes in a recording.\n",
    "- Predict the next note in a recording, conditioned on history.\n",
    "\n",
    "### Content\n",
    "(Raw - recommended) The raw data is available in standard wav audio format, with corresponding label files in csv format. These data and label filenames are MusicNet ids, which you can use to cross-index the data, labels, and metadata files.\n",
    "\n",
    "(Python) The Python version of the dataset is distributed as a NumPy npz file. This is a binary format specific to Python (WARNING: if you attempt to read this data in Python 3, you need to set encoding='latin1' when you call np.load or your process will hang without any informative error messages). This format has three dependencies:\n",
    "\n",
    "Python - This version of MusicNet is distributed as a Python object.\n",
    "NumPy - The MusicNet features are stored in NumPy arrays.\n",
    "intervaltree - The MusicNet labels are stored in an IntervalTree.\n",
    "\n",
    "### Acknowledgements\n",
    "The MusicNet labels apply exclusively to Creative Commons and Public Domain recordings, and as such we can distribute and re-distribute the MusicNet labels together with their corresponding recordings. The music that underlies MusicNet is sourced from the Isabella Stewart Gardner Museum, the European Archive, and Musopen.\n",
    "\n",
    "This work was supported by the Washington Research Foundation Fund for Innovation in Data-Intensive Discovery, and the program \"Learning in Machines and Brains\" (CIFAR).\n"
   ]
  },
  {
   "cell_type": "code",
   "execution_count": null,
   "metadata": {},
   "outputs": [],
   "source": []
  }
 ],
 "metadata": {
  "kernelspec": {
   "display_name": "Python 3",
   "language": "python",
   "name": "python3"
  },
  "language_info": {
   "codemirror_mode": {
    "name": "ipython",
    "version": 3
   },
   "file_extension": ".py",
   "mimetype": "text/x-python",
   "name": "python",
   "nbconvert_exporter": "python",
   "pygments_lexer": "ipython3",
   "version": "3.8.2"
  }
 },
 "nbformat": 4,
 "nbformat_minor": 4
}
